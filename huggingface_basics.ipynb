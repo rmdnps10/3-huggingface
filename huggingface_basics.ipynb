{
 "cells": [
  {
   "cell_type": "markdown",
   "metadata": {
    "id": "view-in-github"
   },
   "source": [
    "<a href=\"https://colab.research.google.com/github/olavvn/7-huggingface_practice/blob/master/huggingface_basics.ipynb\" target=\"_parent\"><img src=\"https://colab.research.google.com/assets/colab-badge.svg\" alt=\"Open In Colab\"/></a>"
   ]
  },
  {
   "cell_type": "code",
   "execution_count": null,
   "metadata": {
    "colab": {
     "base_uri": "https://localhost:8080/"
    },
    "executionInfo": {
     "elapsed": 9597,
     "status": "ok",
     "timestamp": 1759402629325,
     "user": {
      "displayName": "Inyoung Chung",
      "userId": "17804832999613277703"
     },
     "user_tz": -540
    },
    "id": "8Gd5PVm7H7o7",
    "outputId": "b93e8cde-e176-45ad-b3f4-9874af072c3e"
   },
   "outputs": [],
   "source": [
    "!pip install transformers datasets huggingface_hub"
   ]
  },
  {
   "cell_type": "markdown",
   "metadata": {
    "id": "6dgKU45fCffl"
   },
   "source": [
    "# 1. 허깅페이스 개요"
   ]
  },
  {
   "cell_type": "markdown",
   "metadata": {
    "id": "s6olgr_ite6K"
   },
   "source": [
    "## 실습1. BERT와 GPT-2 모델을 활용할 때 허깅페이스 트랜스포머 코드 비교"
   ]
  },
  {
   "cell_type": "code",
   "execution_count": null,
   "metadata": {
    "id": "kAwjIEiKIBVj"
   },
   "outputs": [],
   "source": [
    "from transformers import AutoTokenizer, AutoModel, GPT2LMHeadModel\n",
    "\n",
    "text = \"What is Huggingface Transformers?\"\n",
    "# BERT 모델 활용\n",
    "bert_model = AutoModel.from_pretrained(\"bert-base-uncased\")\n",
    "bert_tokenizer = AutoTokenizer.from_pretrained('bert-base-uncased')\n",
    "encoded_input = bert_tokenizer(text, return_tensors='pt')\n",
    "bert_output = bert_model(**encoded_input)\n",
    "# GPT-2 모델 활용\n",
    "gpt_model = GPT2LMHeadModel.from_pretrained('gpt2')\n",
    "gpt_tokenizer = AutoTokenizer.from_pretrained('gpt2')\n",
    "encoded_input = gpt_tokenizer(text, return_tensors='pt')\n",
    "gpt_output = gpt_model(**encoded_input)"
   ]
  },
  {
   "cell_type": "code",
   "execution_count": null,
   "metadata": {
    "colab": {
     "base_uri": "https://localhost:8080/"
    },
    "executionInfo": {
     "elapsed": 27,
     "status": "ok",
     "timestamp": 1759400621202,
     "user": {
      "displayName": "Inyoung Chung",
      "userId": "17804832999613277703"
     },
     "user_tz": -540
    },
    "id": "_dzN1yuPQLoT",
    "outputId": "d1c05e85-b1ab-4de2-c6ba-24af11d37bc0"
   },
   "outputs": [],
   "source": [
    "bert_output #출력값: 입력 텍스트의 각 토큰과 전체 시퀀스를 나타내는 고차원의 벡터(은닉 상태)\n",
    "gpt_output #출력값: 로짓(logits) 벡터. 각 단어(토큰)가 다음에 나올 확률을 나타내는 값\n",
    "#BERT: 분류 모델로, 텍스트화 불가, GPT: 다음 단어 예측하는 모델로, 텍스트 출력하려면 별도 작업 필요"
   ]
  },
  {
   "cell_type": "markdown",
   "metadata": {
    "id": "cUIzXEp9CleZ"
   },
   "source": [
    "# 2. 트랜스포머 모델 활용하기"
   ]
  },
  {
   "cell_type": "markdown",
   "metadata": {
    "id": "ZOmUG05vk3LG"
   },
   "source": [
    "## 2.1 모델 불러오기"
   ]
  },
  {
   "cell_type": "markdown",
   "metadata": {
    "id": "6oo8e5smt8gB"
   },
   "source": [
    "### 실습2. 모델 아이디로 바디만 불러오기"
   ]
  },
  {
   "cell_type": "code",
   "execution_count": null,
   "metadata": {
    "id": "vsj_ZOu-CobD"
   },
   "outputs": [],
   "source": [
    "from transformers import AutoModel\n",
    "base_model_id = 'bert-base-uncased'\n",
    "base_model = AutoModel.from_pretrained(base_model_id)"
   ]
  },
  {
   "cell_type": "code",
   "execution_count": null,
   "metadata": {
    "id": "WQCcAaYSZavT"
   },
   "outputs": [],
   "source": [
    "#model metadata\n",
    "base_model_config = base_model.config\n",
    "config_dict = base_model_config.__dict__\n",
    "config_dict"
   ]
  },
  {
   "cell_type": "markdown",
   "metadata": {
    "id": "TDARA5SpuJgt"
   },
   "source": [
    "### 실습3. 분류 헤드가 포함된 모델 불러오기"
   ]
  },
  {
   "cell_type": "code",
   "execution_count": null,
   "metadata": {
    "colab": {
     "base_uri": "https://localhost:8080/",
     "height": 81,
     "referenced_widgets": [
      "88342b9ce2d946afa87bce2ed9015a53",
      "7d47413ebb8b41ec94c01e98ce4d49ca",
      "cb92b590b935434fae7cfb2f9d49e13f",
      "3a889365c28646c9bbd7fb69899bb1a1",
      "79e086e8398e4c4895c2699eaa562c51",
      "510fe7c6a5fa456683787e74b74461de",
      "b75b53f0e7a148da813c775b2b3dd89c",
      "506be36a35fb4896b740c6f5570df9f6",
      "701fc714a35d48a9b7c55078612e3e82",
      "23c8bac201fc49a7ac7abc940af1fc68",
      "7c4a2fa2990c4776b0d58504661289f1",
      "95589a56badf46989d9974b117111b6b",
      "e5161621fbaf4c4f9565086ad3d8a0ca",
      "13418f4fa62743fc8e6729d855f02385",
      "5301860791f0417ba7de81ce381d191b",
      "b65806ac6b844566805f7d7f6b571c4c",
      "e7938d9293fe4fb39d54bf55f4235a1c",
      "523e4e71889e4e90927fe0633c51f90c",
      "1f6a1ee98fe34b6199d3a20360acc647",
      "a9946486ab3b45dcb1ce2e472b97fcd5",
      "55f7c81233394e66a115149b61331213",
      "c4568fed0b3a4ea7b3c442d8b24fd4de"
     ]
    },
    "executionInfo": {
     "elapsed": 16306,
     "status": "ok",
     "timestamp": 1759400963760,
     "user": {
      "displayName": "Inyoung Chung",
      "userId": "17804832999613277703"
     },
     "user_tz": -540
    },
    "id": "XdfQpfUuCrdy",
    "outputId": "9f192c0e-4499-42dd-d673-4697bd0da18b"
   },
   "outputs": [],
   "source": [
    "from transformers import AutoModelForSequenceClassification\n",
    "model_id = 'SamLowe/roberta-base-go_emotions'\n",
    "classification_model = AutoModelForSequenceClassification.from_pretrained(model_id)"
   ]
  },
  {
   "cell_type": "code",
   "execution_count": null,
   "metadata": {
    "id": "eYOgjrjvafay"
   },
   "outputs": [],
   "source": [
    "#model metadata\n",
    "classification_model_config = classification_model.config\n",
    "config_dict = classification_model_config.__dict__\n",
    "config_dict\n",
    "#id2label확인"
   ]
  },
  {
   "cell_type": "markdown",
   "metadata": {
    "id": "XPfN9HZluWeW"
   },
   "source": [
    "### 실습4. 분류 헤드가 랜덤으로 초기화된 모델 불러오기"
   ]
  },
  {
   "cell_type": "code",
   "execution_count": null,
   "metadata": {
    "id": "KnQbDV3JCtwE"
   },
   "outputs": [],
   "source": [
    "from transformers import AutoModelForSequenceClassification\n",
    "random_model_id = 'klue/roberta-base'\n",
    "random_model = AutoModelForSequenceClassification.from_pretrained(model_id)\n"
   ]
  },
  {
   "cell_type": "code",
   "execution_count": null,
   "metadata": {
    "id": "ZCGTWJXWlKgR"
   },
   "outputs": [],
   "source": [
    "#model metadata\n",
    "random_model_config = random_model.config\n",
    "config_dict = random_model_config.__dict__\n",
    "config_dict"
   ]
  },
  {
   "cell_type": "markdown",
   "metadata": {
    "id": "qqqZaxJnFOis"
   },
   "source": [
    "## 2.2 토크나이저 활용하기"
   ]
  },
  {
   "cell_type": "markdown",
   "metadata": {
    "id": "WeYgt5UzuwGC"
   },
   "source": [
    "### 실습5. 토크나이저 불러오기"
   ]
  },
  {
   "cell_type": "code",
   "execution_count": null,
   "metadata": {
    "colab": {
     "base_uri": "https://localhost:8080/",
     "height": 145,
     "referenced_widgets": [
      "bfbef8be47fd45a897cd0fed8746b1f6",
      "9bbbae326f15408fab2f95fbd759682e",
      "df2e1412b0074a0d8a276b90e2a71345",
      "359bd84ca9324a61805253271031542b",
      "d4c73bd0249144e48668a34b52c0594d",
      "9be2063fc7f54de7b0e65790a1a04f35",
      "7eba370230e54dc5ba2f86245771b538",
      "e7b4e1d5e1b64adb874ed4b5b98bb399",
      "e13aa92ab6794e58964de6f940e665ec",
      "2c260bdf280f487ea5d65cea23c384e5",
      "d6df3ed5d0f842c59cb07da89cbdc2a7",
      "3d03f1e79b2648819b9f950644d54f98",
      "3c78e6859f0b49b781283ee42a5cc56a",
      "b5d31f99984142ecb34a0726df79a49a",
      "6263f19e298244d8b4a710797e7d1273",
      "2980becc76e244f486877a78554712f7",
      "871a45369ac547da89a9eb4e36b5ca4f",
      "986eb5c9efab44e3a240ba5624d6a5f2",
      "2c8b6220298e4785aa338bc36ce11613",
      "0b5b142b27ef45b9af83fff4bbd9cd13",
      "e7e8878a6056433bbb107fe7f90555c2",
      "a5140748df7d4c6eb128be8da3b934da",
      "54e3cca9d2ea45769ced999424ac712a",
      "1139d5a06b4a424cb0c23daf0967af5a",
      "460065edd4b3418c8006a0311180b8d1",
      "2c8ee58922ed4a0780687a762355212c",
      "20f0440efeb245c9af852e46b82fb63d",
      "f42e7228277a44278ba1d45c2e489e38",
      "101fbaae71f74e7cad7f196f14288063",
      "7b87da8c599f4bd4af14bddb63182133",
      "d61178c2e1344155bf3ceda3bbbe8317",
      "1d3c9191aa144a07a5ef6c69510093c1",
      "e1cc22dfdd44439aa9a16775c9f8a3a4",
      "5d16d010d62946b487cbe73798c38bb6",
      "712a4df01b164ade9afe908db628c823",
      "2f15d04c640344168f1b13f1966c5229",
      "43f6e25764fd4d01bbd478bf5eec242a",
      "cf6017f0b6c149bbb0a51210ffabe785",
      "bae97fbe80ed4099b1b8d0a64d8b91b0",
      "80e2ed5a869b40d081c6c1847dbc3d0d",
      "4bfcd9cbed9040399feb469b3d1fe14e",
      "d5c2160f1f174435826bccc8a14ce972",
      "6699777ba48247a38338b8e5ec6d4d88",
      "b33652e9d8f843eb8cdac467d793f295"
     ]
    },
    "executionInfo": {
     "elapsed": 972,
     "status": "ok",
     "timestamp": 1759401089252,
     "user": {
      "displayName": "Inyoung Chung",
      "userId": "17804832999613277703"
     },
     "user_tz": -540
    },
    "id": "GOS1p907u1CO",
    "outputId": "dc5d28d0-28f9-477d-8381-e603cda66e72"
   },
   "outputs": [],
   "source": [
    "from transformers import AutoTokenizer\n",
    "model_id = 'klue/roberta-base'\n",
    "tokenizer = AutoTokenizer.from_pretrained(model_id)"
   ]
  },
  {
   "cell_type": "markdown",
   "metadata": {
    "id": "DKssSh_tu8v-"
   },
   "source": [
    "### 실습6. 토크나이저 사용하기"
   ]
  },
  {
   "cell_type": "code",
   "execution_count": null,
   "metadata": {
    "colab": {
     "base_uri": "https://localhost:8080/"
    },
    "executionInfo": {
     "elapsed": 11,
     "status": "ok",
     "timestamp": 1759401113971,
     "user": {
      "displayName": "Inyoung Chung",
      "userId": "17804832999613277703"
     },
     "user_tz": -540
    },
    "id": "iaX4LD4Eu3RL",
    "outputId": "32d586b5-e328-4049-deba-23936c2b2856"
   },
   "outputs": [],
   "source": [
    "tokenized = tokenizer(\"토크나이저는 텍스트를 토큰 단위로 나눈다.\")\n",
    "print(tokenized)\n",
    "\n",
    "print()\n",
    "# ['[CLS]', '토크', '##나이', '##저', '##는', '텍스트', '##를', '토', '##큰', '단위', '##로', '나눈다', '[SEP]']\n",
    "\n",
    "print()\n",
    "# [CLS] 토크나이저는 텍스트를 토큰 단위로 나눈다 [SEP]\n",
    "\n",
    "print()\n",
    "# 토크나이저는 텍스트를 토큰 단위로 나눈다\n"
   ]
  },
  {
   "cell_type": "markdown",
   "metadata": {
    "id": "YjqS0r-avFl-"
   },
   "source": [
    "### 실습7. 토크나이저에 여러 문장 넣기"
   ]
  },
  {
   "cell_type": "code",
   "execution_count": null,
   "metadata": {
    "colab": {
     "base_uri": "https://localhost:8080/"
    },
    "executionInfo": {
     "elapsed": 40,
     "status": "ok",
     "timestamp": 1759401273499,
     "user": {
      "displayName": "Inyoung Chung",
      "userId": "17804832999613277703"
     },
     "user_tz": -540
    },
    "id": "vmcZndW0vGqC",
    "outputId": "ca203330-b76a-4297-c96b-6f40ce1f074f"
   },
   "outputs": [],
   "source": [
    "tokenizer(['첫 번째 문장', '두 번째 문장'])\n",
    "\n",
    "# {'input_ids': [[0, 1656, 1141, 3135, 6265, 2], [0, 864, 1141, 3135, 6265, 2]],\n",
    "# 'token_type_ids': [[0, 0, 0, 0, 0, 0], [0, 0, 0, 0, 0, 0]],\n",
    "# 'attention_mask': [[1, 1, 1, 1, 1, 1], [1, 1, 1, 1, 1, 1]]}"
   ]
  },
  {
   "cell_type": "markdown",
   "metadata": {
    "id": "On7iLMjHvMQd"
   },
   "source": [
    "### 실습8. 하나의 데이터에 여러 문장이 들어가는 경우"
   ]
  },
  {
   "cell_type": "code",
   "execution_count": null,
   "metadata": {
    "colab": {
     "base_uri": "https://localhost:8080/"
    },
    "executionInfo": {
     "elapsed": 6,
     "status": "ok",
     "timestamp": 1759401324995,
     "user": {
      "displayName": "Inyoung Chung",
      "userId": "17804832999613277703"
     },
     "user_tz": -540
    },
    "id": "oe9aqgr-vTOv",
    "outputId": "a21db4da-1151-495a-93f2-b423ef3393d5"
   },
   "outputs": [],
   "source": [
    "tokenizer([['첫 번째 문장', '두 번째 문장']])\n",
    "\n",
    "# {'input_ids': [[0, 1656, 1141, 3135, 6265, 2, 864, 1141, 3135, 6265, 2]],\n",
    "# 'token_type_ids': [[0, 0, 0, 0, 0, 0, 0, 0, 0, 0, 0]],\n",
    "# 'attention_mask': [[1, 1, 1, 1, 1, 1, 1, 1, 1, 1, 1]]}"
   ]
  },
  {
   "cell_type": "markdown",
   "metadata": {
    "id": "3oaV-a3lvcQK"
   },
   "source": [
    "### 실습9. 토큰 아이디를 문자열로 복원"
   ]
  },
  {
   "cell_type": "code",
   "execution_count": null,
   "metadata": {
    "colab": {
     "base_uri": "https://localhost:8080/"
    },
    "executionInfo": {
     "elapsed": 17,
     "status": "ok",
     "timestamp": 1759401339899,
     "user": {
      "displayName": "Inyoung Chung",
      "userId": "17804832999613277703"
     },
     "user_tz": -540
    },
    "id": "GxIG352EvdDi",
    "outputId": "2668919a-e309-495b-e2ef-287150bd3833"
   },
   "outputs": [],
   "source": [
    "first_tokenized_result = tokenizer(['첫 번째 문장', '두 번째 문장'])['input_ids']\n",
    "print()\n",
    "# ['[CLS] 첫 번째 문장 [SEP]', '[CLS] 두 번째 문장 [SEP]']\n",
    "\n",
    "second_tokenized_result = tokenizer([['첫 번째 문장', '두 번째 문장']])['input_ids']\n",
    "print()\n",
    "# ['[CLS] 첫 번째 문장 [SEP] 두 번째 문장 [SEP]']"
   ]
  },
  {
   "cell_type": "markdown",
   "metadata": {
    "id": "e22TcuvUvk3E"
   },
   "source": [
    "\n",
    "\n",
    "### 실습10. BERT 토크나이저와 RoBERTa 토크나이저"
   ]
  },
  {
   "cell_type": "code",
   "execution_count": null,
   "metadata": {
    "colab": {
     "base_uri": "https://localhost:8080/",
     "height": 411,
     "referenced_widgets": [
      "e3c15798d5db488f8148aa1b129efbfa",
      "e2e22989306848899c7fcd48f012c5c9",
      "34fb09aa262d4885afec215e9379d909",
      "bf2b131a02b24a5f96c805a6d1b32804",
      "79cc6c9a160e4d53aaa22c7e5d98fd13",
      "beec366f1c304e71822448777deaadbd",
      "dc77b94f91134f8c890a8fe85782871a",
      "36135bdd765a4843896c975f7f3c4a09",
      "74385faf8fc447ed868a88b77ea598ce",
      "63127be023424e1fb944c9cf088c87ce",
      "123d1f2bd837427ea64efb4ce168499d",
      "77443734fc5346ad87c877832e8d46e5",
      "ea0089fa4d8047a68c1c14239747220f",
      "c9e15d9a37c94ea4ad53c9b77f76df18",
      "6b99cbdda316420982fc908915824ebf",
      "a6f3a71697bb44038937f791ff2d34b9",
      "8b6632eb48a84eff8cbf1e38ff155f70",
      "76e834e09dbd46ee8debf13119d1c21e",
      "b26b0e6043b64370aa9b5da3bf968ec0",
      "921ab5bcb78b4e9e8ecd71812dbcac37",
      "c1c86c58841545ec93e19c14995fd4e1",
      "49463f1253ec449c8a00560a157ff673",
      "408192264e234db4a61c9757971c2504",
      "a15451be9a644ce48cc74575912361d4",
      "d6eb947b87524624a63d38425de50c19",
      "594d7207feb04f35a025e48266cdb8cb",
      "99874f14fcea4988b5a5fcaa09285ecc",
      "c7585a25450543b8aebd6abea96a6d76",
      "a4b614ccde6442dfb791d914f1b0bd69",
      "093cd3f9fe8d4e20a82df5e7d168de6a",
      "2bae4e4d3b0143f89b94b530dadb14d3",
      "6d305e42c8bd46b69518388f9d924561",
      "1d707548fd0540febee1729e8268fe25",
      "a6ecea91d40248caa29812c5a3d3c96d",
      "17f3340c751c40048f1aff4103fa5a0b",
      "9016a1b758bb4423bde6703390d3eb31",
      "09f1732390534932ab252e6bd9ea038c",
      "1b56085364d44c40921ee5153f34da2b",
      "c17e592ad9b141b08cba8be31dcb7cf5",
      "9d1bc91793be45569ba0f053edf5fa7b",
      "fbfecfe9592b4ecd8724a3b2f3ee3f6d",
      "207ffad6680e4976a3ba4d01f770ae63",
      "2501d72581334ad1a3724cc579a07711",
      "1cdc4fbd783e46e1b4f38c5d08bdbd7a",
      "ef6a57903e9444c19a207cf8a955b27c",
      "a2210506452d435b9c42582b0e2142ca",
      "9b48dc28d1fe436f8643175597996b7a",
      "3b35dabd7a7a4c779116b4077d1327f7",
      "0ea3bd86cf5e4e11bcb76a6e33bab8f7",
      "44e551459eaf47cd8f4fa80fe9b1c19c",
      "ed11fc1041e04fc691f2fc2c66ad63db",
      "2d7ddcd0a3114fb4b02195fe1b3e24cc",
      "7fe9b0760b1346f88f04479bbe3d02f4",
      "fa7a727a045240e5aec38753d7f70aa6",
      "54ae688f00cb4e0ea9a815f2e4d3f9d2",
      "0afc757348e344859b8ca05313369d99",
      "192faf0fead14c9ea44fc724cf8eba9a",
      "7f71de162847489e9c6520facc515dbb",
      "63988829db34426ba27ad883429e47ed",
      "6bc72531140b408f8220b22c9a7d2077",
      "67972fe60a77481cb0ba50ba8602849c",
      "942bea610f5d449e9822b7c734d0d379",
      "b28a18a47eb24804a16940894799fff6",
      "7aae7dd162df418eb1fee18f979972a6",
      "1bec87390b5949e0a68712faa1b9517a",
      "4992ec2edd264945bef4de83fb0143a5",
      "f434401d5a7c40aab494d27f8180186a",
      "b040c2d2042f4c5ab166da152b8c0752",
      "d4af9c626a854187922a066dc3a688b3",
      "0c72008da7224e01afacf0b927993453",
      "63a6b1519d5548028a1d245c1dd7db83",
      "1d029b40cc1542e2a221db2b620167e7",
      "82d2cfdba1254de5bafdf1c8803f9d24",
      "dcfb5ddf4e204e07896372e2f38238a3",
      "6c0652ffbbb845969957c975625a902a",
      "21cd7113a5f149d6827b3e6cc228bb48",
      "8bc3937d1d4c45c2b872bf1ccd205e15",
      "4fe6cf6c80f14950ba729684d14f64bb",
      "f9e7f46b5d7b4f0fab82dac7bc709539",
      "57351cb179d143578a70321c974d99a4",
      "6c048be867874301a18cca31d77a6992",
      "7e1066bfdcc24ea0bb4996b45f30d460",
      "c13f0eb27c8443d39bbc71e5d357a458",
      "a2a84dfccec24dc2be53d631d0f6efa3",
      "9116a7b5ed204d7eb00e4f2d47778b33",
      "4280cfacea2d414b99af518523c7e5ac",
      "e97efd81b6a849129e6516bd698af001",
      "06ad797a45c04ef28821e340c367db94",
      "8ad1449c65b84eab9295bf1e8bf0677a",
      "b4ba1cc9a8ad49e997cbbabddc28465c",
      "cc8021d3840c45f79ac86494668ba4cc",
      "f21b79dc843e46529eb44a3b59edf979",
      "924a06767a6843b09605f9305eaa3c32",
      "40434b10080348a0b2663422d13a442f",
      "aad7ea8d524f4acca87e4eff6b8fe8b8",
      "743e61f9a4c04665be2635a31f3b1691",
      "8c08adfc0b444c469df9be198863bf60",
      "bedeafe88ee94a5bb647f4b82b4beab3",
      "da6ba9ae4b4144bdbd234e67f68d4e22",
      "e2fa87bbe3ca49f28d3e05a949a6b884",
      "5ba68f95bcad4c2da2d38ac883fb654c",
      "6712832de0a84c88a7c00d6279feec4e",
      "682f7af6db514fa2ab434e4c4c57719c",
      "5c7cb661d3544bf1bcf5430ff26e8b4c",
      "74f5428edae04163a0477128886f3830",
      "c3dff5b27247454d8b7e801cacc8cd96",
      "0c9e874e99a044378c8e61afa44f2773",
      "2d248f6ebd3041d5a36fb0809f2572a2",
      "ae47180367ac4963a2c48c15c9d18ea2",
      "1ad9897d35b345ccb35b1f3ee90e821c"
     ]
    },
    "executionInfo": {
     "elapsed": 3652,
     "status": "ok",
     "timestamp": 1759401368140,
     "user": {
      "displayName": "Inyoung Chung",
      "userId": "17804832999613277703"
     },
     "user_tz": -540
    },
    "id": "0vDO4KJ_vlUv",
    "outputId": "faacbfa4-4e4e-4818-c73f-75f0103f378a"
   },
   "outputs": [],
   "source": [
    "bert_tokenizer = AutoTokenizer.from_pretrained('klue/bert-base')\n",
    "print(bert_tokenizer([['첫 번째 문장', '두 번째 문장']]))\n",
    "\n",
    "roberta_tokenizer = AutoTokenizer.from_pretrained('klue/roberta-base')\n",
    "print(roberta_tokenizer([['첫 번째 문장', '두 번째 문장']]))\n",
    "\n",
    "en_roberta_tokenizer = AutoTokenizer.from_pretrained('roberta-base')\n",
    "print(en_roberta_tokenizer([['first sentence', 'second sentence']]))\n",
    "\n",
    "\n",
    "#모델에 따라 토큰화 결과가 다르다."
   ]
  },
  {
   "cell_type": "markdown",
   "metadata": {
    "id": "F8TSCJ_rvux1"
   },
   "source": [
    "### 실습11. attention_mask 확인"
   ]
  },
  {
   "cell_type": "code",
   "execution_count": null,
   "metadata": {
    "id": "Lj8XkTM9vvwu"
   },
   "outputs": [],
   "source": [
    "tokenizer(['첫 번째 문장은 짧다.', '두 번째 문장은 첫 번째 문장 보다 더 길다.'], padding='longest')\n"
   ]
  },
  {
   "cell_type": "markdown",
   "metadata": {
    "id": "e9hRNhL6v8J3"
   },
   "source": [
    "# 3. 데이터셋 활용하기"
   ]
  },
  {
   "cell_type": "markdown",
   "metadata": {
    "id": "jciuyy3G3Pv5"
   },
   "source": [
    "## 3.1 데이터셋 다운로드"
   ]
  },
  {
   "cell_type": "markdown",
   "metadata": {
    "id": "YsihUpKB3hKx"
   },
   "source": [
    "### 실습12. 허깅페이스 허브에서 데이터셋 다운로드"
   ]
  },
  {
   "cell_type": "code",
   "execution_count": null,
   "metadata": {
    "colab": {
     "base_uri": "https://localhost:8080/",
     "height": 177,
     "referenced_widgets": [
      "431aa67e577a46b48fee411c2ae1b53a",
      "99d33a7452344a348fcc4292a85e9409",
      "66985eacaa994a8f9daeb6a0806e4e83",
      "96d560d710ee4c21a67c6fc241cb0984",
      "2c43fc746dcd47b39d21c8225f818566",
      "2b88b39fbddb47729755bbffbf38506b",
      "0e01837828bf481fa0fc270cecdf60b7",
      "574a5df59a3f498994fed42e29c579d3",
      "d4aec2bd09164e5cb4f0e096d280e8f1",
      "dcf3be3209cf4f398bcc9f17b25d159f",
      "2675f83c26784b5fbaa9b5b0afa52ff0",
      "e82d97a4713b4f6e99e1374ef02699ea",
      "01d685d7b0c341d78ca1d0d71316165d",
      "8f8c8be52ee04e4fa2f18b01ac606a0a",
      "fbe8e57be0574409b32ab57b2b655d78",
      "bd7a1add5bec429887a4ce09d32b8465",
      "cea01b4ff0804fb3844621e3d6ad30b5",
      "dee18430938d4d44b15d9c4261059c8b",
      "6f5d82c787f04a3caf1d0e99c6770ebf",
      "68df3142577f4ffa9f74afdaed4b7a13",
      "29f082e9d5244d1ea0633cc51d7b5145",
      "789b213e5248438b9b1ac00b3de42dd4",
      "2dc621ba79244b85bcda3fc33a779433",
      "8347d6eb99a74cbc8588c466a90b2f99",
      "0b103c9855c647c99e37f62511ba7540",
      "e842cabd1da14e02b4adb03c0a12edad",
      "a6d84fe7c49a44a0884c68bd7a0474c0",
      "f51d97998aea4b98ab3b4c8b1960bc97",
      "8f1d603aac0b4f4b9968066dfb3b4b16",
      "bdedc88072374723a4de07d3a1be0bff",
      "75180fef12544dbaa907b2a55ec0c14e",
      "e8c6a1442fe1480d844cbf48ff826daa",
      "1655e9bfd9a04ede887cc1f8a67a0d4b",
      "3b5bdb3b55d844d0a95a732f74797398",
      "4d4b621aaded4b228af416677a51aed3",
      "098cc03ca8614a38a69268961ffb7358",
      "27e0f6ea0f484c50bea272c729dc9efb",
      "356a0bee27304d559823b64f63bf4451",
      "6be63c211689401f973a60093e944cea",
      "5cbe3e219df4441ab34523614db23bc3",
      "ac225a4b8af04901bd23db13fbcf438f",
      "35abccbe7c4848488486e8b2d1f283b5",
      "37f6e85d7eb246ec98a7cc311aa2bb3a",
      "3a7b183c7a5243a2a49a164754129f00",
      "d389aea31a984c7ca2195923a03e90bb",
      "9481d8782fd942b6aa9aa4ff70868442",
      "0073cf7412d04f65a4938bd4656f3a03",
      "43b6758743da45439428cc1eaaa8b0b5",
      "f0cc878ec7fe485bb0c0b9f5f5aa5d72",
      "7cddf2a37d194c678104d7ab6774ce6f",
      "6628d2d578ff45fa9dba2b549f7422df",
      "7d656345e2644dd9985b29707322e009",
      "eb904af0fec84a819f0b308786d75cf3",
      "1e8c2bfb57204ba98c3d247747258663",
      "0e42ce8098bb44669125e0a1f880ec6e"
     ]
    },
    "executionInfo": {
     "elapsed": 9552,
     "status": "ok",
     "timestamp": 1759402207029,
     "user": {
      "displayName": "Inyoung Chung",
      "userId": "17804832999613277703"
     },
     "user_tz": -540
    },
    "id": "h6rED4n6v-dg",
    "outputId": "22d7d3c2-77d7-4d00-c456-7343d43bf2f9"
   },
   "outputs": [],
   "source": [
    "from datasets import load_dataset\n",
    "#MRC(Machine Reading Comprehension) 데이터셋: 기계의 독해 능력 평가하는 데이터셋\n",
    "klue_mrc_dataset = load_dataset('klue', 'mrc')\n",
    "klue_mrc_dataset_only_train = load_dataset('klue', 'mrc', split='train')"
   ]
  },
  {
   "cell_type": "code",
   "execution_count": null,
   "metadata": {
    "colab": {
     "base_uri": "https://localhost:8080/"
    },
    "executionInfo": {
     "elapsed": 13,
     "status": "ok",
     "timestamp": 1759402636738,
     "user": {
      "displayName": "Inyoung Chung",
      "userId": "17804832999613277703"
     },
     "user_tz": -540
    },
    "id": "oYQcIJmIOcyH",
    "outputId": "28527152-c178-4cb2-f83b-ee8eaf632b87"
   },
   "outputs": [],
   "source": [
    "klue_mrc_dataset"
   ]
  },
  {
   "cell_type": "code",
   "execution_count": null,
   "metadata": {
    "colab": {
     "base_uri": "https://localhost:8080/"
    },
    "executionInfo": {
     "elapsed": 31,
     "status": "ok",
     "timestamp": 1759402638662,
     "user": {
      "displayName": "Inyoung Chung",
      "userId": "17804832999613277703"
     },
     "user_tz": -540
    },
    "id": "vfVetDobOoiQ",
    "outputId": "2ae009b5-c004-4171-85ef-31b97100abd9"
   },
   "outputs": [],
   "source": [
    "klue_mrc_dataset_only_train"
   ]
  },
  {
   "cell_type": "code",
   "execution_count": null,
   "metadata": {
    "colab": {
     "base_uri": "https://localhost:8080/"
    },
    "executionInfo": {
     "elapsed": 14,
     "status": "ok",
     "timestamp": 1759402640077,
     "user": {
      "displayName": "Inyoung Chung",
      "userId": "17804832999613277703"
     },
     "user_tz": -540
    },
    "id": "k4dqLQJIOzQO",
    "outputId": "4f2fd128-663a-44cd-944c-84b6ada9c215"
   },
   "outputs": [],
   "source": [
    "klue_mrc_dataset['train'][0]"
   ]
  },
  {
   "cell_type": "markdown",
   "metadata": {
    "id": "28cdd3vPwF-x"
   },
   "source": [
    "### 실습13. 로컬의 데이터 활용하기\n",
    "(안내) 아래 코드를 실행하기 위해서는 구글 코랩에 csv 파일이 업로드 되어야 합니다. 허깅페이스 datasets 형식으로 쉽게 변환할 수 있다는 점을 보여주기 위한 예시 코드입니다."
   ]
  },
  {
   "cell_type": "code",
   "execution_count": null,
   "metadata": {
    "colab": {
     "base_uri": "https://localhost:8080/"
    },
    "executionInfo": {
     "elapsed": 25961,
     "status": "ok",
     "timestamp": 1759402668343,
     "user": {
      "displayName": "Inyoung Chung",
      "userId": "17804832999613277703"
     },
     "user_tz": -540
    },
    "id": "VByKyjBcMjfs",
    "outputId": "2fea9a9e-6352-48b6-f20d-a6395a09f221"
   },
   "outputs": [],
   "source": [
    "from google.colab import drive\n",
    "drive.mount('/content/drive')"
   ]
  },
  {
   "cell_type": "code",
   "execution_count": null,
   "metadata": {
    "colab": {
     "base_uri": "https://localhost:8080/",
     "height": 300,
     "referenced_widgets": [
      "8441a5c1f4624b2297b472ef196d1c47",
      "c1e366fc4b184132b61c7faae73d4d5f",
      "fc5fdc96042b4550a5f923801656a225",
      "7262424816db40b8a5f9b8399df287c3",
      "e639b8d4776140faa863e84bf8467654",
      "9dc537af006e4affa09ad412b26ab3ff",
      "e9bc049ac40b42b7a0bf66a46c9a8e2b",
      "5d556d8164e6484e801bac35c168f5b1",
      "9e5a27cf464846b08ee6f62f659500ae",
      "70aac6bbe2474ad5b0d858a286a42d45",
      "9e8f30cfa68b4e11ab363c4da345d1ba"
     ]
    },
    "executionInfo": {
     "elapsed": 2937,
     "status": "ok",
     "timestamp": 1759402671277,
     "user": {
      "displayName": "Inyoung Chung",
      "userId": "17804832999613277703"
     },
     "user_tz": -540
    },
    "id": "c7FfgbFUDBQg",
    "outputId": "9ea3671f-b4f7-4c6f-e951-6ab4d29ae90f"
   },
   "outputs": [],
   "source": [
    "from datasets import load_dataset\n",
    "import pandas as pd\n",
    "# 로컬의 데이터 파일을 활용\n",
    "dataset_json = load_dataset(\"json\", data_files=\"/content/drive/MyDrive/git/3-huggingface/review_신라스테이 해운대.json\")\n",
    "print(dataset_json)\n",
    "dataset_json_train = load_dataset(\"json\", data_files=\"/content/drive/MyDrive/git/3-huggingface/review_신라스테이 해운대.json\", split='train')\n",
    "\n",
    "print(dataset_json_train)\n",
    "#로컬 데이터로는 train 100% default.\n",
    "\n",
    "dataset_json_test = dataset_json[\"train\"].train_test_split(test_size=0.2, seed=42)[\"test\"]\n",
    "\n",
    "print(dataset_json_test)\n"
   ]
  },
  {
   "cell_type": "code",
   "execution_count": null,
   "metadata": {
    "colab": {
     "base_uri": "https://localhost:8080/"
    },
    "executionInfo": {
     "elapsed": 10,
     "status": "ok",
     "timestamp": 1759402677424,
     "user": {
      "displayName": "Inyoung Chung",
      "userId": "17804832999613277703"
     },
     "user_tz": -540
    },
    "id": "gAk3WHRuRiGw",
    "outputId": "036d9ce5-0967-47d3-80fb-8379c97c9d91"
   },
   "outputs": [],
   "source": [
    "print(dataset_json['train'][0])\n",
    "print(dataset_json_test[0])"
   ]
  },
  {
   "cell_type": "markdown",
   "metadata": {
    "id": "OE1cIGmdwT8n"
   },
   "source": [
    "\n",
    "### 실습14. 데이터셋 제작"
   ]
  },
  {
   "cell_type": "code",
   "execution_count": null,
   "metadata": {
    "colab": {
     "base_uri": "https://localhost:8080/"
    },
    "executionInfo": {
     "elapsed": 41,
     "status": "ok",
     "timestamp": 1759402858710,
     "user": {
      "displayName": "Inyoung Chung",
      "userId": "17804832999613277703"
     },
     "user_tz": -540
    },
    "id": "uJ5E8b1lP7yN",
    "outputId": "2f406213-7e18-43eb-aec9-20386684a1c5"
   },
   "outputs": [],
   "source": [
    "# 파이썬 딕셔너리 활용\n",
    "from datasets import Dataset\n",
    "my_dict = {\"a\": [1, 2, 3]}\n",
    "dataset = Dataset.from_dict(my_dict)\n",
    "print(dataset[0])\n",
    "\n",
    "# 판다스 데이터프레임 활용\n",
    "from datasets import Dataset\n",
    "import pandas as pd\n",
    "df = pd.DataFrame({\"a\": [1, 2, 3]})\n",
    "dataset = Dataset.from_pandas(df)\n",
    "print(dataset[0])"
   ]
  },
  {
   "cell_type": "markdown",
   "metadata": {
    "id": "kbdIGz7YDQ8q"
   },
   "source": [
    "## 3.2. 데이터셋 가공하기"
   ]
  },
  {
   "cell_type": "markdown",
   "metadata": {
    "id": "Qnb6SqInweAW"
   },
   "source": [
    "### 실습15. 실습에 사용하지 않는 불필요한 컬럼 제거"
   ]
  },
  {
   "cell_type": "code",
   "execution_count": null,
   "metadata": {
    "colab": {
     "base_uri": "https://localhost:8080/",
     "height": 344,
     "referenced_widgets": [
      "527039073e4c479ab288450478b1fafe",
      "049531ba61a94ca1b1d7a73017b08104",
      "a7e072555f814c32917edf0c912681c0",
      "e3ebcadb78634924bfb53a27a1c70d19",
      "c8c9c68c3770433a99207897ebf240d2",
      "b0c9b89bbc9c4f7992d98e619cd9274e",
      "49bf405dafa34d07a113466a5b2f5b89",
      "5ce42558389e422dbeb345e7b6875387",
      "1e64902db9484797b7fec30aaffb0863",
      "4dd53e7826844c48bff06884b6fa5cf1",
      "c49a326517284a9cba47f79a6a77d818",
      "6da5c60d918e4ebaaee3402a416be340",
      "552f47e02ad84b3ab0a2b395e43950db",
      "f1115ddd4d834028b3dcfe3f33b84199",
      "84e0064baa034af2be79e9462f407512",
      "b0537aa9c7194bd2880cee59e75a868c",
      "903d0a43c4bb45d19a06e63f6292603d",
      "ba53cc6ccb9a4c8c9a341bdeb8f677ca",
      "0d78dff6c81a43238e96c50d78dd7369",
      "b63bb20c2a734761be42d8a22dbeab2a",
      "db8c00f6acca41f8b82977beef27ba66",
      "b0aef48df190405d9f3007eee36cefa8",
      "152087ab437240bdbb0bf350c8bdfed2",
      "9202debd76b64d4e9d6a45563a55c435",
      "fc64067573d24f0fb2f753f050131e6c",
      "34f36b59884b44fbb618da919b5f5500",
      "18999072c3fd4d06b1316cd1e54feaf0",
      "0a6dad978da74350a468eb6dc6ee129e",
      "44a469d02d544ab5bac1b5a126ffcacd",
      "c779d82af67c4878971ec3e51b2008db",
      "2f11e230497f4985842172f0288f6597",
      "13f1fb69933e428d9db6b80bc1431deb",
      "c13b816e284242e799607e1137b82643",
      "103fe293a5924f45a5c27ba79fe9de9b",
      "99fd5537c210456baf0d305f49889e30",
      "979a60e8c7af4bb1868805daff24858f",
      "ed63c44139584761bec1c7a4cbc99f3c",
      "4a638641c76043289297202c112787d7",
      "1cfd9ba38627465aa6380a1440d90e70",
      "7eee647fd59548198cb860d511901f0d",
      "765ee9633f80424f8bc4548942862eff",
      "d03d7f4eff4a47a880aecec24754f35f",
      "7e1dccf4eb1542edb8b4ac2db9808741",
      "262be2fb88c9435dbf3a84da7822ac46"
     ]
    },
    "executionInfo": {
     "elapsed": 5183,
     "status": "ok",
     "timestamp": 1759402772187,
     "user": {
      "displayName": "Inyoung Chung",
      "userId": "17804832999613277703"
     },
     "user_tz": -540
    },
    "id": "uHjb8Rd6DSDh",
    "outputId": "0e9f9600-361d-45f5-e628-a7e99194c4f1"
   },
   "outputs": [],
   "source": [
    "from datasets import load_dataset\n",
    "klue_tc_train = load_dataset(\"klue\", \"ynat\", split = \"train\")\n",
    "klue_tc_eval = load_dataset(\"klue\", \"ynat\", split = \"validation\")\n",
    "print(klue_tc_train)\n",
    "print(klue_tc_eval)"
   ]
  },
  {
   "cell_type": "code",
   "execution_count": null,
   "metadata": {
    "id": "wr6cX9laDX9Z"
   },
   "outputs": [],
   "source": [
    "klue_tc_train_removed =\n",
    "klue_tc_eval_removed =\n",
    "print(klue_tc_train_removed)\n",
    "print(klue_tc_train_removed[0])\n"
   ]
  },
  {
   "cell_type": "markdown",
   "metadata": {
    "id": "MAjvDdjqwoXY"
   },
   "source": [
    "### 실습16. 카테고리를 문자로 표기한 label_str 컬럼 추가"
   ]
  },
  {
   "cell_type": "code",
   "execution_count": null,
   "metadata": {
    "colab": {
     "base_uri": "https://localhost:8080/",
     "height": 234
    },
    "executionInfo": {
     "elapsed": 44,
     "status": "error",
     "timestamp": 1759402846494,
     "user": {
      "displayName": "Inyoung Chung",
      "userId": "17804832999613277703"
     },
     "user_tz": -540
    },
    "id": "z90M9sisDUmr",
    "outputId": "0774ba19-be4e-4884-86e6-9f1806f1389f"
   },
   "outputs": [],
   "source": [
    "print(klue_tc_train_removed.features['title'])\n",
    "print(klue_tc_train_removed.features['label'])\n",
    "#Value(dtype='string', id=None)\n",
    "#ClassLabel(names=['IT과학', '경제', '사회', '생활문화', '세계', '스포츠', '정치'], id=None)\n",
    "#총 7개의 클래스가 있고, 각각 내부적으로 int값 (0 ~ 6)으로 매핑"
   ]
  },
  {
   "cell_type": "code",
   "execution_count": null,
   "metadata": {
    "id": "W2YoqY7jDZVN"
   },
   "outputs": [],
   "source": [
    "klue_tc_label = klue_tc_train_removed.features['label']\n",
    "\n",
    "def make_str_label(batch):\n",
    "\n",
    "  return batch\n",
    "\n",
    "klue_tc_train_removed =\n",
    "klue_tc_eval_removed =\n",
    "\n",
    "klue_tc_train_removed[10]"
   ]
  },
  {
   "cell_type": "markdown",
   "metadata": {
    "id": "nzAkPNnmwumM"
   },
   "source": [
    "### 실습17. 학습/검증/테스트 데이터셋 분할"
   ]
  },
  {
   "cell_type": "code",
   "execution_count": null,
   "metadata": {
    "id": "xNbew6U5Da9r"
   },
   "outputs": [],
   "source": [
    "train_dataset = klue_tc_train_removed.train_test_split(test_size=10000, shuffle=True, seed=42)['test']\n",
    "dataset = klue_tc_eval_removed.train_test_split(test_size=1000, shuffle=True, seed=42)\n",
    "test_dataset = dataset['test']\n",
    "valid_dataset = dataset['train'].train_test_split(test_size=1000, shuffle=True, seed=42)['test']"
   ]
  },
  {
   "cell_type": "markdown",
   "metadata": {
    "id": "WheFaA_obmWG"
   },
   "source": [
    "# 4. 모델을 이용하여 추론하기"
   ]
  },
  {
   "cell_type": "markdown",
   "metadata": {
    "id": "hrzXul13ygjb"
   },
   "source": [
    "### 실습18. 학습한 모델을 불러와 pipeline을 활용해 텍스트 분류하기"
   ]
  },
  {
   "cell_type": "code",
   "execution_count": null,
   "metadata": {
    "id": "hQojQCo9boGv"
   },
   "outputs": [],
   "source": [
    "from transformers import pipeline\n",
    "\n",
    "model_id = \"hykiim/roberta-base-klue-ynat-classification\"\n",
    "\n",
    "model_pipeline =\n",
    "\n",
    "model_pipeline()"
   ]
  },
  {
   "cell_type": "markdown",
   "metadata": {
    "id": "BJoFN-mEysQF"
   },
   "source": [
    "### 실습19. 커스텀 파이프라인 구현"
   ]
  },
  {
   "cell_type": "code",
   "execution_count": null,
   "metadata": {
    "id": "3k6Q34dJjkC3"
   },
   "outputs": [],
   "source": [
    "import torch\n",
    "from torch.nn.functional import softmax\n",
    "from transformers import AutoModelForSequenceClassification, AutoTokenizer\n",
    "\n",
    "class CustomPipeline:\n",
    "    def __init__(self, model_id):\n",
    "        self.model = #목적에 맞는 모델 헤드 불러옴\n",
    "        self.tokenizer = #모델과 동일한 토크나이저 불러옴\n",
    "        self.model.eval() #모델 평가 모드\n",
    "\n",
    "    def __call__(self, texts):\n",
    "        tokenized = self.tokenizer(texts, return_tensors=\"pt\", padding=True, truncation=True)# 입력 텍스트를 토크나이저를 사용하여 토큰화\n",
    "        # return_tensors=\"pt\": PyTorch 텐서로 반환, padding=True: 패딩 추가, truncation=True: 잘라내기\n",
    "\n",
    "        with torch.no_grad():#기울기 계산 비활성화(옵티마이저 계산 생략)-> 추론 과정에서는 옵티마이징 할 필요 없음.\n",
    "            outputs = self.model(**tokenized)#**연산자는 딕셔너리를 키워드 인자로 unpacking하여 모델에 입력. 즉 토큰 아이디\n",
    "            logits = outputs.logits# 모델 출력에서 logits 값을 추출. (분류되지 않은 예측값)\n",
    "\n",
    "        #추론이 정확할 확률 구하기\n",
    "        probabilities = softmax(logits, dim=-1)\n",
    "        scores, labels = torch.max(probabilities, dim=-1)\n",
    "        labels_str = [self.model.config.id2label[label_idx] for label_idx in labels.tolist()]\n",
    "\n",
    "        return [{\"label\": label, \"score\": score.item()} for label, score in zip(labels_str, scores)]\n",
    "\n",
    "custom_pipeline = CustomPipeline(model_id)\n",
    "print(custom_pipeline(test_dataset['title'][:5]))\n",
    "print(test_dataset['label_str'][:5])"
   ]
  },
  {
   "cell_type": "code",
   "execution_count": null,
   "metadata": {
    "id": "2z1j014MUX8V"
   },
   "outputs": [],
   "source": [
    "import torch\n",
    "\n",
    "gpt_model = GPT2LMHeadModel.from_pretrained('gpt2')\n",
    "gpt_tokenizer = AutoTokenizer.from_pretrained('gpt2')\n",
    "encoded_input = gpt_tokenizer(text, return_tensors='pt')\n",
    "gpt_output = gpt_model(**encoded_input)\n",
    "\n",
    "\n",
    "# GPT-2는 기본 pad 토큰이 없으므로, eos 토큰을 pad 토큰으로 설정 (일반적인 관행)\n",
    "if gpt_tokenizer.pad_token is None:\n",
    "    gpt_tokenizer.pad_token = gpt_tokenizer.eos_token\n",
    "\n",
    "# 2. 입력 텍스트 준비\n",
    "text = \"What is Huggingface Transformer?\"\n",
    "encoded_input = gpt_tokenizer(text, return_tensors='pt')\n",
    "input_ids = encoded_input['input_ids']\n",
    "\n",
    "# 3. 텍스트 생성 (model.generate 사용)\n",
    "# max_length: 생성될 텍스트의 최대 길이 (입력 포함)\n",
    "# num_return_sequences: 생성할 시퀀스 수\n",
    "# pad_token_id: 패딩에 사용될 토큰 ID 설정\n",
    "output_sequences = gpt_model.generate(\n",
    "    input_ids=input_ids,\n",
    "    max_length=50,  # 예시: 최대 50 토큰까지 생성\n",
    "    num_return_sequences=1,\n",
    "    pad_token_id=gpt_tokenizer.pad_token_id,\n",
    "    # 더 다양한 결과를 원하면 다음 파라미터 추가 가능:\n",
    "    do_sample=True,      # 샘플링 사용 여부\n",
    "    top_k=50,            # 상위 K개 토큰 중에서만 샘플링\n",
    "    top_p=0.95,          # 누적 확률 P 이상인 토큰 중에서만 샘플링 (nucleus sampling)\n",
    "    temperature=0.7,     # 확률 분포를 조절 (낮을수록 결정적, 높을수록 무작위적)\n",
    ")\n",
    "\n",
    "# 4. 생성된 토큰 ID 시퀀스를 텍스트로 디코딩\n",
    "# output_sequences[0]은 생성된 첫 번째 시퀀스를 의미\n",
    "# skip_special_tokens=True 옵션은 <|endoftext|> 같은 특수 토큰을 결과에서 제외\n",
    "generated_text = gpt_tokenizer.decode(output_sequences[0], skip_special_tokens=True)\n",
    "\n",
    "# 5. 결과 출력\n",
    "print(\"Input Text:\", text)\n",
    "print(\"Generated Text:\", generated_text)"
   ]
  }
 ],
 "metadata": {
  "accelerator": "GPU",
  "colab": {
   "gpuType": "T4",
   "provenance": []
  },
  "kernelspec": {
   "display_name": "hateslop1",
   "language": "python",
   "name": "python3"
  },
  "language_info": {
   "codemirror_mode": {
    "name": "ipython",
    "version": 3
   },
   "file_extension": ".py",
   "mimetype": "text/x-python",
   "name": "python",
   "nbconvert_exporter": "python",
   "pygments_lexer": "ipython3",
   "version": "3.10.16"
  }
 },
 "nbformat": 4,
 "nbformat_minor": 0
}
